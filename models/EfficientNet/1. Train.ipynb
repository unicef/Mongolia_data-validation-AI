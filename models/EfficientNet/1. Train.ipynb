{
 "cells": [
  {
   "cell_type": "code",
   "execution_count": 1,
   "id": "9a76548f",
   "metadata": {
    "gather": {
     "logged": 1667550945490
    }
   },
   "outputs": [
    {
     "name": "stdout",
     "output_type": "stream",
     "text": [
      "0.13.0+cu102\n"
     ]
    }
   ],
   "source": [
    "# !pip install torchvision==0.13.0"
   ]
  },
  {
   "cell_type": "code",
   "execution_count": 1,
   "id": "0ff8566e-4f42-48b8-ac31-c7ec02ae4780",
   "metadata": {
    "gather": {
     "logged": 1667551159020
    },
    "jupyter": {
     "outputs_hidden": false,
     "source_hidden": false
    },
    "nteract": {
     "transient": {
      "deleting": false
     }
    }
   },
   "outputs": [],
   "source": [
    "from models.efficientnet import EfficientNet\n",
    "\n",
    "from data.dataset import create_dataloader\n",
    "from data.transform import get_train_transform, get_validation_transform\n",
    "\n",
    "from losses.poly_loss import PolyLoss\n",
    "from utils.plots import plot_stats, plot_roc_curve\n",
    "from train import train, validate, predict\n",
    "\n",
    "import torch\n",
    "from torch import optim\n",
    "\n",
    "import numpy as np\n",
    "from sklearn.metrics import classification_report\n",
    "\n",
    "import os"
   ]
  },
  {
   "cell_type": "code",
   "execution_count": null,
   "id": "9ca8b323-60cb-46d6-849e-23562c9fd2be",
   "metadata": {
    "gather": {
     "logged": 1667500561389
    },
    "jupyter": {
     "outputs_hidden": false,
     "source_hidden": false
    },
    "nteract": {
     "transient": {
      "deleting": false
     }
    }
   },
   "outputs": [],
   "source": [
    "# Prepare dataset\n",
    "# !unzip \"../data/classification_dataset.zip\" -d \"../data/classification_dataset/\""
   ]
  },
  {
   "cell_type": "markdown",
   "id": "3e7f52fe",
   "metadata": {},
   "source": [
    "# Dataloaders"
   ]
  },
  {
   "cell_type": "code",
   "execution_count": 2,
   "id": "bd591873",
   "metadata": {
    "gather": {
     "logged": 1667551162225
    }
   },
   "outputs": [],
   "source": [
    "train_data_dir = \"../data/classification_dataset/classification_dataset/train\" # \"dataset/train\"\n",
    "val_data_dir = \"../data/classification_dataset/classification_dataset/val\" # \"dataset/validation\"\n",
    "# test_data_dir = \"dataset/test\"\n",
    "\n",
    "image_size = (256, 256)\n",
    "mean = [0.485, 0.456, 0.406]\n",
    "std = [0.229, 0.224, 0.225]\n",
    "\n",
    "batch_size = 8\n",
    "num_workers = 2"
   ]
  },
  {
   "cell_type": "code",
   "execution_count": 3,
   "id": "68a5dad8",
   "metadata": {
    "gather": {
     "logged": 1667551173210
    }
   },
   "outputs": [],
   "source": [
    "train_dataloader = create_dataloader(data_dir = train_data_dir, \n",
    "                                     batch_size = batch_size, \n",
    "                                     image_size = image_size, \n",
    "                                     mean = mean, \n",
    "                                     std = std, \n",
    "                                     num_workers = 4, \n",
    "                                     train = True)\n",
    "\n",
    "val_dataloader = create_dataloader(data_dir = val_data_dir, \n",
    "                                     batch_size = batch_size,\n",
    "                                     image_size = image_size,\n",
    "                                     mean = mean,\n",
    "                                     std = std,\n",
    "                                     train = False)\n",
    "\n",
    "# test_dataloader = create_dataloader(data_dir = test_data_dir, \n",
    "#                                      batch_size = batch_size, \n",
    "#                                      image_size = image_size, \n",
    "#                                      mean = mean, \n",
    "#                                      std = std, \n",
    "#                                      train = False)"
   ]
  },
  {
   "cell_type": "markdown",
   "id": "0730b0b4",
   "metadata": {},
   "source": [
    "# Model"
   ]
  },
  {
   "cell_type": "code",
   "execution_count": 4,
   "id": "02165f57",
   "metadata": {
    "gather": {
     "logged": 1667551176452
    }
   },
   "outputs": [],
   "source": [
    "# training params\n",
    "learning_rate = 0.001\n",
    "epochs = 30 # 50\n",
    "\n",
    "# model params\n",
    "efficientnet_version = 'b5'\n",
    "pretrained = True\n",
    "num_classes = 2\n",
    "\n",
    "weights_folder = \"weights\"\n",
    "os.makedirs(weights_folder, exist_ok = True)"
   ]
  },
  {
   "cell_type": "code",
   "execution_count": 5,
   "id": "8a6c26e5",
   "metadata": {
    "gather": {
     "logged": 1667551182794
    }
   },
   "outputs": [
    {
     "name": "stderr",
     "output_type": "stream",
     "text": [
      "/anaconda/envs/azureml_py38/lib/python3.8/site-packages/torchvision/models/_utils.py:208: UserWarning: The parameter 'pretrained' is deprecated since 0.13 and will be removed in 0.15, please use 'weights' instead.\n",
      "  warnings.warn(\n",
      "/anaconda/envs/azureml_py38/lib/python3.8/site-packages/torchvision/models/_utils.py:223: UserWarning: Arguments other than a weight enum or `None` for 'weights' are deprecated since 0.13 and will be removed in 0.15. The current behavior is equivalent to passing `weights=EfficientNet_B5_Weights.IMAGENET1K_V1`. You can also use `weights=EfficientNet_B5_Weights.DEFAULT` to get the most up-to-date weights.\n",
      "  warnings.warn(msg)\n"
     ]
    },
    {
     "name": "stdout",
     "output_type": "stream",
     "text": [
      "Trainable params: 28344882\n"
     ]
    }
   ],
   "source": [
    "model = EfficientNet(version = efficientnet_version,\n",
    "                     pretrained = pretrained,\n",
    "                     num_classes = num_classes)\n",
    "\n",
    "device = 'cuda' if torch.cuda.is_available() else 'cpu'\n",
    "model.to(device)\n",
    "\n",
    "total_trainable_params = sum([p.numel() for p in model.parameters() if p.requires_grad])\n",
    "\n",
    "print(\"Trainable params:\", total_trainable_params)"
   ]
  },
  {
   "cell_type": "code",
   "execution_count": 6,
   "id": "02bcdb85",
   "metadata": {
    "gather": {
     "logged": 1667551190450
    }
   },
   "outputs": [],
   "source": [
    "optimizer = optim.Adam(model.parameters(),\n",
    "                       lr = learning_rate)\n",
    "\n",
    "criterion = PolyLoss(softmax=True) # nn.CrossEntropyLoss"
   ]
  },
  {
   "cell_type": "markdown",
   "id": "4942689f",
   "metadata": {},
   "source": [
    "# Train"
   ]
  },
  {
   "cell_type": "code",
   "execution_count": 7,
   "id": "5487d568",
   "metadata": {
    "collapsed": true,
    "gather": {
     "logged": 1667564490593
    }
   },
   "outputs": [
    {
     "name": "stderr",
     "output_type": "stream",
     "text": [
      " 50%|█████     | 15/30 [1:51:13<1:49:27, 437.85s/it]"
     ]
    },
    {
     "name": "stdout",
     "output_type": "stream",
     "text": [
      "train loss: 0.3672, val loss: 0.2855\n",
      "train acc: 0.9129, val acc: 0.9277\n",
      "Saving model at epoch: 1\n",
      "Saving model at epoch: 1\n",
      "train loss: 0.2277, val loss: 0.2107\n",
      "train acc: 0.9492, val acc: 0.9635\n",
      "Saving model at epoch: 2\n",
      "Saving model at epoch: 2\n",
      "train loss: 0.1549, val loss: 0.1157\n",
      "train acc: 0.9653, val acc: 0.9825\n",
      "Saving model at epoch: 3\n",
      "Saving model at epoch: 3\n",
      "train loss: 0.1634, val loss: 0.1276\n",
      "train acc: 0.9625, val acc: 0.9712\n",
      "train loss: 0.1173, val loss: 0.0801\n",
      "train acc: 0.9715, val acc: 0.9796\n",
      "Saving model at epoch: 5\n",
      "train loss: 0.1394, val loss: 0.0456\n",
      "train acc: 0.9671, val acc: 0.9895\n",
      "Saving model at epoch: 6\n",
      "Saving model at epoch: 6\n",
      "train loss: 0.0962, val loss: 0.0581\n",
      "train acc: 0.9779, val acc: 0.9846\n",
      "train loss: 0.0940, val loss: 0.0680\n",
      "train acc: 0.9768, val acc: 0.9832\n",
      "train loss: 0.1149, val loss: 0.0451\n",
      "train acc: 0.9736, val acc: 0.9895\n",
      "Saving model at epoch: 9\n",
      "train loss: 0.0869, val loss: 0.0548\n",
      "train acc: 0.9788, val acc: 0.9888\n",
      "train loss: 0.0941, val loss: 0.0582\n",
      "train acc: 0.9782, val acc: 0.9860\n",
      "train loss: 0.0800, val loss: 0.0480\n",
      "train acc: 0.9821, val acc: 0.9902\n",
      "Saving model at epoch: 12\n",
      "train loss: 0.0869, val loss: 0.0429\n",
      "train acc: 0.9819, val acc: 0.9902\n",
      "Saving model at epoch: 13\n",
      "train loss: 0.0818, val loss: 0.0714\n",
      "train acc: 0.9816, val acc: 0.9881\n",
      "train loss: 0.0676, val loss: 0.2176\n",
      "train acc: 0.9864, val acc: 0.9516\n",
      "train loss: 0.0708, val loss: 0.1513\n",
      "train acc: 0.9844, val acc: 0.9663\n",
      "train loss: 0.0715, val loss: 0.0650\n",
      "train acc: 0.9828, val acc: 0.9874\n",
      "train loss: 0.0572, val loss: 0.0508\n",
      "train acc: 0.9873, val acc: 0.9944\n",
      "Saving model at epoch: 18\n",
      "train loss: 0.0728, val loss: 0.1318\n",
      "train acc: 0.9839, val acc: 0.9712\n",
      "train loss: 0.0544, val loss: 0.0612\n",
      "train acc: 0.9894, val acc: 0.9888\n",
      "train loss: 0.0669, val loss: 0.0658\n",
      "train acc: 0.9853, val acc: 0.9853\n",
      "train loss: 0.0631, val loss: 0.0665\n",
      "train acc: 0.9851, val acc: 0.9860\n",
      "train loss: 0.0579, val loss: 0.0236\n",
      "train acc: 0.9885, val acc: 0.9951\n",
      "Saving model at epoch: 23\n",
      "Saving model at epoch: 23\n",
      "train loss: 0.0545, val loss: 0.0264\n",
      "train acc: 0.9892, val acc: 0.9937\n",
      "train loss: 0.0538, val loss: 0.0628\n",
      "train acc: 0.9885, val acc: 0.9895\n",
      "train loss: 0.0620, val loss: 0.0287\n",
      "train acc: 0.9858, val acc: 0.9937\n",
      "train loss: 0.0544, val loss: 0.0219\n",
      "train acc: 0.9873, val acc: 0.9937\n",
      "Saving model at epoch: 27\n",
      "train loss: 0.0537, val loss: 0.0833\n",
      "train acc: 0.9885, val acc: 0.9825\n",
      "train loss: 0.0578, val loss: 0.0237\n",
      "train acc: 0.9881, val acc: 0.9951\n",
      "train loss: 0.0493, val loss: 0.0248\n",
      "train acc: 0.9899, val acc: 0.9951\n"
     ]
    }
   ],
   "source": [
    "history = train(epochs = epochs, \n",
    "                model = model, \n",
    "                train_dataloader = train_dataloader, \n",
    "                val_dataloader = val_dataloader, \n",
    "                optimizer = optimizer, \n",
    "                criterion = criterion, \n",
    "                device = device,\n",
    "                save_folder = weights_folder)\n",
    "\n",
    "train_loss = history[\"train_loss\"] \n",
    "valid_loss = history[\"val_loss\"]\n",
    "train_acc = history[\"train_acc\"]\n",
    "valid_acc = history[\"val_acc\"]"
   ]
  },
  {
   "cell_type": "markdown",
   "id": "d95991ec",
   "metadata": {},
   "source": [
    "### Plot train / val metrics"
   ]
  },
  {
   "cell_type": "code",
   "execution_count": 8,
   "id": "505c7bf4",
   "metadata": {
    "collapsed": true,
    "gather": {
     "logged": 1667564879006
    }
   },
   "outputs": [
    {
     "data": {
      "image/png": "[encoded data removed]",
      "text/plain": [
       "<Figure size 504x360 with 1 Axes>"
      ]
     },
     "metadata": {
      "needs_background": "light"
     },
     "output_type": "display_data"
    },
    {
     "data": {
      "image/png": "[encoded data removed]",
      "text/plain": [
       "<Figure size 504x360 with 1 Axes>"
      ]
     },
     "metadata": {
      "needs_background": "light"
     },
     "output_type": "display_data"
    }
   ],
   "source": [
    "plot_stats(range(epochs), train_loss, valid_loss, train_acc, valid_acc)"
   ]
  },
  {
   "cell_type": "markdown",
   "id": "44d7c401",
   "metadata": {},
   "source": [
    "### ROC curve"
   ]
  },
  {
   "cell_type": "code",
   "execution_count": 19,
   "id": "4d312191",
   "metadata": {
    "gather": {
     "logged": 1667565415846
    }
   },
   "outputs": [
    {
     "name": "stderr",
     "output_type": "stream",
     "text": [
      "100%|██████████| 179/179 [00:37<00:00,  4.77it/s]\n"
     ]
    },
    {
     "data": {
      "image/png": "[encoded data removed]",
      "text/plain": [
       "<Figure size 504x360 with 1 Axes>"
      ]
     },
     "metadata": {
      "needs_background": "light"
     },
     "output_type": "display_data"
    }
   ],
   "source": [
    "\n",
    "# for test set\n",
    "# preds, gts = predict(model, test_dataloader, device, return_probs = True)\n",
    "\n",
    "# for val set\n",
    "# predict\n",
    "preds, gts = predict(model, val_dataloader, device, return_probs = True)\n",
    "preds, gts = np.array(preds), np.array(gts)\n",
    "\n",
    "# plot ROC curve\n",
    "# plot_roc_curve(gts, preds[:,0], pos_label = 0)\n",
    "plot_roc_curve(gts, preds[:,1], pos_label = 1)"
   ]
  },
  {
   "cell_type": "markdown",
   "id": "113a7974",
   "metadata": {},
   "source": [
    "### Confusion matrix"
   ]
  },
  {
   "cell_type": "code",
   "execution_count": 11,
   "id": "fe72fa4d-50fb-4ea9-9bbc-1dc63cc609d4",
   "metadata": {
    "gather": {
     "logged": 1667565156978
    },
    "jupyter": {
     "outputs_hidden": false,
     "source_hidden": false
    },
    "nteract": {
     "transient": {
      "deleting": false
     }
    }
   },
   "outputs": [
    {
     "name": "stdout",
     "output_type": "stream",
     "text": [
      "{'not_school': 0, 'school': 1}\n"
     ]
    }
   ],
   "source": [
    "# print index to class map\n",
    "\n",
    "print(val_dataloader.dataset.class_to_idx)"
   ]
  },
  {
   "cell_type": "code",
   "execution_count": null,
   "id": "abb65c00",
   "metadata": {
    "gather": {
     "logged": 1667565189941
    }
   },
   "outputs": [],
   "source": [
    "from sklearn.metrics import ConfusionMatrixDisplay\n",
    "\n",
    "ConfusionMatrixDisplay.from_predictions(gts, \n",
    "                                        np.argmax(preds, axis = 1), \n",
    "                                        display_labels = ['not_school', 'school'])"
   ]
  },
  {
   "cell_type": "markdown",
   "id": "c21bce76",
   "metadata": {},
   "source": [
    "### Classification report"
   ]
  },
  {
   "cell_type": "code",
   "execution_count": 20,
   "id": "9286bdb9",
   "metadata": {
    "gather": {
     "logged": 1667565447779
    }
   },
   "outputs": [
    {
     "name": "stdout",
     "output_type": "stream",
     "text": [
      "              precision    recall  f1-score   support\n",
      "\n",
      "  not_school      0.997     0.996     0.996       927\n",
      "      school      0.992     0.994     0.993       498\n",
      "\n",
      "    accuracy                          0.995      1425\n",
      "   macro avg      0.994     0.995     0.995      1425\n",
      "weighted avg      0.995     0.995     0.995      1425\n",
      "\n"
     ]
    }
   ],
   "source": [
    "print(classification_report(gts, \n",
    "                            np.argmax(preds, axis = 1), \n",
    "                            target_names=['not_school', 'school'], \n",
    "                            digits=3))"
   ]
  },
  {
   "cell_type": "markdown",
   "id": "3056217b",
   "metadata": {},
   "source": [
    "# Load trained model"
   ]
  },
  {
   "cell_type": "code",
   "execution_count": null,
   "id": "801ca6cd",
   "metadata": {},
   "outputs": [],
   "source": [
    "model = EfficientNet(version = 'b5',\n",
    "                             pretrained = True,\n",
    "                             num_classes = 2)\n",
    "\n",
    "checkpoint = torch.load('weights/best_model_on_val_loss.pth')\n",
    "model.load_state_dict(checkpoint['model'])\n",
    "\n",
    "device = 'cuda' if torch.cuda.is_available() else 'cpu'\n",
    "model.to(device)"
   ]
  },
  {
   "cell_type": "markdown",
   "id": "758e5b73",
   "metadata": {},
   "source": [
    "### Validate"
   ]
  },
  {
   "cell_type": "code",
   "execution_count": null,
   "id": "fdd54062",
   "metadata": {},
   "outputs": [],
   "source": [
    "loss, acc = validate(model, test_dataloader, criterion, device)\n",
    "\n",
    "print('Accuracy: {:.4f}'.format(acc)) \n",
    "print('Loss: {:.4f}'.format(loss))"
   ]
  },
  {
   "cell_type": "markdown",
   "id": "ba252b65",
   "metadata": {},
   "source": [
    "### ROC curve"
   ]
  },
  {
   "cell_type": "code",
   "execution_count": null,
   "id": "4315cc35",
   "metadata": {},
   "outputs": [],
   "source": [
    "# predict\n",
    "preds, gts = predict(model, test_dataloader, device, return_probs = True)\n",
    "preds, gts = np.array(preds), np.array(gts)\n",
    "\n",
    "# plot ROC curve\n",
    "plot_roc_curve(gts, preds[:,0], pos_label = 0)"
   ]
  },
  {
   "cell_type": "markdown",
   "id": "1154e980",
   "metadata": {},
   "source": [
    "### Confusion matrix"
   ]
  },
  {
   "cell_type": "code",
   "execution_count": null,
   "id": "7ea7ed5a",
   "metadata": {},
   "outputs": [],
   "source": [
    "from sklearn.metrics import ConfusionMatrixDisplay\n",
    "\n",
    "ConfusionMatrixDisplay.from_predictions(gts, \n",
    "                                        np.argmax(preds, axis = 1), \n",
    "                                        display_labels = ['cell', 'no_cell'])"
   ]
  },
  {
   "cell_type": "markdown",
   "id": "92782385",
   "metadata": {},
   "source": [
    "### Classification report"
   ]
  },
  {
   "cell_type": "code",
   "execution_count": null,
   "id": "7a0c0f15",
   "metadata": {},
   "outputs": [],
   "source": [
    "print(classification_report(gts, \n",
    "                            np.argmax(preds, axis = 1), \n",
    "                            target_names=['cell', 'no_cell'], \n",
    "                            digits=3))"
   ]
  }
 ],
 "metadata": {
  "kernel_info": {
   "name": "python3"
  },
  "kernelspec": {
   "display_name": "Python 3 (ipykernel)",
   "language": "python",
   "name": "python3"
  },
  "language_info": {
   "codemirror_mode": {
    "name": "ipython",
    "version": 3
   },
   "file_extension": ".py",
   "mimetype": "text/x-python",
   "name": "python",
   "nbconvert_exporter": "python",
   "pygments_lexer": "ipython3",
   "version": "3.9.10"
  },
  "microsoft": {
   "host": {
    "AzureML": {
     "notebookHasBeenCompleted": true
    }
   }
  },
  "nteract": {
   "version": "nteract-front-end@1.0.0"
  }
 },
 "nbformat": 4,
 "nbformat_minor": 5
}
