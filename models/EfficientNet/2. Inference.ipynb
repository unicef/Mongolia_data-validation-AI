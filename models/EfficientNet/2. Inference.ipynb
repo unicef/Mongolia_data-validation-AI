{
 "cells": [
  {
   "cell_type": "markdown",
   "id": "b13dcd41",
   "metadata": {},
   "source": [
    "## Import packages"
   ]
  },
  {
   "cell_type": "code",
   "execution_count": null,
   "id": "cdbd49e5",
   "metadata": {},
   "outputs": [],
   "source": [
    "import torch\n",
    "from inference import inference"
   ]
  },
  {
   "cell_type": "markdown",
   "id": "d798c0a3",
   "metadata": {},
   "source": [
    "## Params"
   ]
  },
  {
   "cell_type": "code",
   "execution_count": null,
   "id": "680ce0af",
   "metadata": {},
   "outputs": [],
   "source": [
    "test_image_folder = '../../data/downloaded_images' # folder containing test images\n",
    "weight_filepath = 'weights/best_model_on_val_acc_epoch_18.pth' # file is in \"weights\" folder\n",
    "image_size = (256, 256) # image resolution used to train the model\n",
    "efficientnet_version = 'b5'\n",
    "\n",
    "# No need to change these variables\n",
    "output_folder = '../../data/model_predictions/efficientnet_predictions'\n",
    "class_names = ['not_school', 'school']\n",
    "mean = [0.485, 0.456, 0.406]\n",
    "std = [0.229, 0.224, 0.225]"
   ]
  },
  {
   "cell_type": "markdown",
   "id": "5e6a2602",
   "metadata": {},
   "source": [
    "## Inference"
   ]
  },
  {
   "cell_type": "code",
   "execution_count": null,
   "id": "2e7d7ed3",
   "metadata": {},
   "outputs": [],
   "source": [
    "inference(test_image_folder = test_image_folder,\n",
    "          image_size = image_size ,\n",
    "          weight_filepath = weight_filepath,\n",
    "          output_folder = output_folder,\n",
    "          mean = mean,\n",
    "          std = std,\n",
    "          class_names = class_names,\n",
    "          efficientnet_version = efficientnet_version)"
   ]
  }
 ],
 "metadata": {
  "kernelspec": {
   "display_name": "Python 3 (ipykernel)",
   "language": "python",
   "name": "python3"
  },
  "language_info": {
   "codemirror_mode": {
    "name": "ipython",
    "version": 3
   },
   "file_extension": ".py",
   "mimetype": "text/x-python",
   "name": "python",
   "nbconvert_exporter": "python",
   "pygments_lexer": "ipython3",
   "version": "3.9.10"
  }
 },
 "nbformat": 4,
 "nbformat_minor": 5
}
