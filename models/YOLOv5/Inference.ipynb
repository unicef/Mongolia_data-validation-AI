{
 "cells": [
  {
   "cell_type": "code",
   "execution_count": null,
   "id": "2bfb93e0",
   "metadata": {},
   "outputs": [],
   "source": [
    "import os"
   ]
  },
  {
   "cell_type": "markdown",
   "id": "88e945ce",
   "metadata": {},
   "source": [
    "## Parameters"
   ]
  },
  {
   "cell_type": "code",
   "execution_count": null,
   "id": "568f7f06",
   "metadata": {},
   "outputs": [],
   "source": [
    "test_image_folder = \"../../data/downloaded_images\" # folder containing test images\n",
    "weight_file_dir = \"weight/yolov5_best.pt\"\n",
    "image_size = 256 # tile size used to train the model\n",
    "\n",
    "output_folder = \"../../data/model_predictions/yolov5_predictions\" # prediction results will be stored in this folder\n",
    "conf_thresh = 0.1"
   ]
  },
  {
   "cell_type": "markdown",
   "id": "9135f720",
   "metadata": {},
   "source": [
    "## Inference"
   ]
  },
  {
   "cell_type": "code",
   "execution_count": null,
   "id": "fec02392",
   "metadata": {},
   "outputs": [],
   "source": [
    "# create an interim folder to store text files\n",
    "interim_folder = \"interim/prediction_output\" # temporary folder to store prediction output files\n",
    "!rm -rf {interim_folder}"
   ]
  },
  {
   "cell_type": "code",
   "execution_count": null,
   "id": "098c2fed",
   "metadata": {},
   "outputs": [],
   "source": [
    "!python yolov5/detect.py \\\n",
    "--weights {weight_file_dir} \\\n",
    "--source {test_image_folder}  \\\n",
    "--img {image_size} \\\n",
    "--conf {conf_thresh} \\\n",
    "--project {interim_folder}  \\\n",
    "--nosave  \\\n",
    "--save-txt  \\\n",
    "--save-conf \\\n",
    "--exist-ok"
   ]
  },
  {
   "cell_type": "code",
   "execution_count": null,
   "id": "13a7f8fc",
   "metadata": {},
   "outputs": [],
   "source": [
    "os.makedirs(output_folder, exist_ok = True)\n",
    "\n",
    "# move prediction output files from \"interim_output_folder\" to \"output_folder\"\n",
    "!mv {os.path.join(interim_folder, \"exp/labels/*\")} {output_folder}\n",
    "\n",
    "# remove \"interim_folder\"\n",
    "!rm -rf {interim_folder}"
   ]
  }
 ],
 "metadata": {
  "kernelspec": {
   "display_name": "Python 3 (ipykernel)",
   "language": "python",
   "name": "python3"
  },
  "language_info": {
   "codemirror_mode": {
    "name": "ipython",
    "version": 3
   },
   "file_extension": ".py",
   "mimetype": "text/x-python",
   "name": "python",
   "nbconvert_exporter": "python",
   "pygments_lexer": "ipython3",
   "version": "3.9.10"
  }
 },
 "nbformat": 4,
 "nbformat_minor": 5
}
