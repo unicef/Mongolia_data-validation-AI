{
 "cells": [
  {
   "cell_type": "markdown",
   "id": "d41106bd",
   "metadata": {},
   "source": [
    "# YOLOv5"
   ]
  },
  {
   "cell_type": "code",
   "execution_count": null,
   "id": "2029a6ae",
   "metadata": {},
   "outputs": [],
   "source": [
    "\"\"\"\n",
    "1. Go to \"models/YOLOv5\" folder.\n",
    "2. Run the \"Inference.ipynb\" notebook.\n",
    "3. Change the following parameters in the \"Params\" section:\n",
    "    - test_image_folder\n",
    "    - weight_file_dir\n",
    "    - image_size\n",
    "4. Run the code in \"Inference\" section\n",
    "5. prediction results will be generated in \"data/model_predictions/yolov5_predictions\"\n",
    "\"\"\""
   ]
  },
  {
   "cell_type": "markdown",
   "id": "4a638d9c",
   "metadata": {},
   "source": [
    "# EfficientNet"
   ]
  },
  {
   "cell_type": "code",
   "execution_count": null,
   "id": "6f6e3f20",
   "metadata": {},
   "outputs": [],
   "source": [
    "\"\"\"\n",
    "1. Go to \"models/EfficientNet\" folder.\n",
    "2. Run the \"2. Inference.ipynb\" notebook.\n",
    "3. Change the following parameters in the \"Params\" section:\n",
    "    - test_image_folder\n",
    "    - weight_filepath\n",
    "    - image_size\n",
    "    - efficientnet_version\n",
    "4. Run the code in \"Inference\" section\n",
    "5. prediction results will be generated in \"data/model_predictions/efficientnet_predictions\"\n",
    "\"\"\""
   ]
  },
  {
   "cell_type": "markdown",
   "id": "5e0db273",
   "metadata": {},
   "source": [
    "# DeTR"
   ]
  },
  {
   "cell_type": "code",
   "execution_count": null,
   "id": "aad1ad97",
   "metadata": {},
   "outputs": [],
   "source": [
    "\"\"\"\n",
    "1. Go to \"models/DeTR\" folder.\n",
    "2. Run the \"predict.ipynb\" notebook.\n",
    "3. Change the following parameters in the \"Params\" section:\n",
    "    - output_folder\n",
    "    - test_image_folder\n",
    "    - weight_file_dir\n",
    "4. Run the code in \"Inference\" section\n",
    "5. prediction results will be generated in \"data/model_predictions/detr_predictions\"\n",
    "\"\"\""
   ]
  }
 ],
 "metadata": {
  "kernelspec": {
   "display_name": "Python 3",
   "language": "python",
   "name": "python3"
  },
  "language_info": {
   "codemirror_mode": {
    "name": "ipython",
    "version": 3
   },
   "file_extension": ".py",
   "mimetype": "text/x-python",
   "name": "python",
   "nbconvert_exporter": "python",
   "pygments_lexer": "ipython3",
   "version": "3.6.9"
  }
 },
 "nbformat": 4,
 "nbformat_minor": 5
}
