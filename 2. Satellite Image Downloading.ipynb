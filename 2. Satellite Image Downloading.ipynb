{
 "cells": [
  {
   "cell_type": "markdown",
   "id": "8df19eaa",
   "metadata": {},
   "source": [
    "### Import packages"
   ]
  },
  {
   "cell_type": "code",
   "execution_count": null,
   "id": "d945fb59",
   "metadata": {},
   "outputs": [],
   "source": [
    "import math\n",
    "import os\n",
    "import random\n",
    "import time\n",
    "import pandas as pd\n",
    "import geopandas as gpd\n",
    "from owslib.wms import WebMapService\n",
    "from pyproj import Proj, transform\n",
    "import tqdm\n",
    "import multiprocess as mp"
   ]
  },
  {
   "cell_type": "markdown",
   "id": "720defe8",
   "metadata": {},
   "source": [
    "### Read csv file\n",
    "- read csv file that contains grids (top, left, bottom, right extent data)"
   ]
  },
  {
   "cell_type": "code",
   "execution_count": null,
   "id": "70f3d458",
   "metadata": {},
   "outputs": [],
   "source": [
    "csv_dir = \"data/gov_data_for_downloading_sp_06.csv\"\n",
    "\n",
    "CRS = 'EPSG:4326' # CRS for gov csv file\n",
    "\n",
    "#image parmeters - PX_WIDTH: number of pixels horizontally\n",
    "PX_WIDTH = 512\n",
    "PX_HEIGHT = 512\n",
    "\n",
    "download_folder = \"data/downloaded_images\""
   ]
  },
  {
   "cell_type": "code",
   "execution_count": null,
   "id": "2d00ce06",
   "metadata": {},
   "outputs": [],
   "source": [
    "# read csv file\n",
    "df = pd.read_csv(csv_dir)\n",
    "df"
   ]
  },
  {
   "cell_type": "markdown",
   "id": "a3614ad9",
   "metadata": {},
   "source": [
    "# Parameters"
   ]
  },
  {
   "cell_type": "code",
   "execution_count": null,
   "id": "cf816e4a",
   "metadata": {},
   "outputs": [],
   "source": [
    "#get secret from key vault\n",
    "#credential information are updated on 3/1/2022\n",
    "sat_id = 'unicef_innovation'\n",
    "sat_pass = 'R4HyxsnxMu$sDju'\n",
    "sat_connect_id = '5f4b5f3d-47e0-402a-996a-ed37f05a871b'\n",
    "\n",
    "#prepare wms connection strings\n",
    "wms = WebMapService('http://evwhs.digitalglobe.com/mapservice/wmsaccess?connectid=' + sat_connect_id, \n",
    "                    version='1.1.1', \n",
    "                    username=sat_id,\n",
    "                    password=sat_pass)\n",
    "\n",
    "# prepare ID for each image\n",
    "tile_id_col = 'point_id'\n",
    "ID = df[tile_id_col]\n",
    "size_data = len(ID)\n",
    "\n",
    "# folder for image download\n",
    "DIRECTORY = download_folder # os.path.join(download_folder, \"\")\n",
    "\n",
    "#don't change anything below this\n",
    "FORMAT      = 'image/png'\n",
    "LAYERS      = ['DigitalGlobe:Imagery']\n",
    "SIZE        = (PX_WIDTH, PX_HEIGHT)\n",
    "SRS         = CRS\n",
    "TRANSPARENT = True\n",
    "REQUEST='GetMap'\n",
    "STYLES=''\n",
    "EXCEPTIONS  = 'application/vnd.ogc.se_xml'\n",
    "FEATUREPROFILE='Most_Aesthetic_Mosaic_Profile'\n",
    "COVERAGE_CQL_FILTER='productType =%27Pan Sharpened Natural Color%27'\n",
    "COVERAGE_CQL_FILTER=''"
   ]
  },
  {
   "cell_type": "markdown",
   "id": "243beb73",
   "metadata": {},
   "source": [
    "## Function for image download for multiproecssing"
   ]
  },
  {
   "cell_type": "code",
   "execution_count": null,
   "id": "e1b85808",
   "metadata": {},
   "outputs": [],
   "source": [
    "def img_down(no):\n",
    "    \n",
    "    ID = str(df[tile_id_col][no])\n",
    "    \n",
    "    if os.path.exists(os.path.join(download_folder, str(ID) +'.png')):\n",
    "        return\n",
    "    \n",
    "    try:\n",
    "        bbox=(df['left'][no],df['bottom'][no],df['right'][no],df['top'][no])\n",
    "        \n",
    "        img = wms.getmap(\n",
    "                    layers=LAYERS,\n",
    "                    srs=SRS,\n",
    "                    bbox=bbox,\n",
    "                    size=SIZE,\n",
    "                    featureProfile=FEATUREPROFILE,\n",
    "                    coverage_cql_filter=COVERAGE_CQL_FILTER,\n",
    "                    exceptions=EXCEPTIONS,\n",
    "                    transparent=TRANSPARENT,\n",
    "                    format=FORMAT          \n",
    "        )\n",
    "        \n",
    "        if(img.info()['Content-Disposition'].endswith('.png')):\n",
    "            with open(os.path.join(download_folder, str(ID) +'.png'), 'wb') as png:\n",
    "                png.write(img.read())\n",
    "    \n",
    "    except Exception as e:\n",
    "            print(e, \"Error downloading:\", ID)"
   ]
  },
  {
   "cell_type": "markdown",
   "id": "804976e7",
   "metadata": {},
   "source": [
    "## Download"
   ]
  },
  {
   "cell_type": "code",
   "execution_count": null,
   "id": "1c0bf626",
   "metadata": {},
   "outputs": [],
   "source": [
    "# create output folder\n",
    "os.makedirs(download_folder, exist_ok = True)\n",
    "\n",
    "#generate numbers between 0 and data size\n",
    "tile_nums=range(size_data)\n",
    "\n",
    "#call the downloading function with record numbers as inputs\n",
    "#change the number of processes to smaller number if memory problem occurs\n",
    "p = mp.Pool()\n",
    "results = list(tqdm.tqdm(p.imap_unordered(img_down, tile_nums), total=size_data))\n",
    "\n",
    "p.close()\n",
    "p.join()"
   ]
  }
 ],
 "metadata": {
  "kernelspec": {
   "display_name": "Python 3",
   "language": "python",
   "name": "python3"
  },
  "language_info": {
   "codemirror_mode": {
    "name": "ipython",
    "version": 3
   },
   "file_extension": ".py",
   "mimetype": "text/x-python",
   "name": "python",
   "nbconvert_exporter": "python",
   "pygments_lexer": "ipython3",
   "version": "3.6.9"
  }
 },
 "nbformat": 4,
 "nbformat_minor": 5
}
