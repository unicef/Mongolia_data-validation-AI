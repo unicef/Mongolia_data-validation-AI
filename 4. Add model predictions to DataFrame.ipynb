{
 "cells": [
  {
   "cell_type": "code",
   "execution_count": null,
   "id": "9c76f7bc",
   "metadata": {},
   "outputs": [],
   "source": [
    "from utils import (\n",
    "    # for adding model prediction results to csv file\n",
    "    add_yolov5_conf_scores,\n",
    "    add_efficientnet_conf_scores,\n",
    "    add_detr_conf_scores,\n",
    ")\n",
    "\n",
    "import pandas as pd\n",
    "import numpy as np"
   ]
  },
  {
   "cell_type": "markdown",
   "id": "86364153",
   "metadata": {},
   "source": [
    "## Params"
   ]
  },
  {
   "cell_type": "code",
   "execution_count": null,
   "id": "aa8f4a5c",
   "metadata": {},
   "outputs": [],
   "source": [
    "gov_csv_dir = \"data/gov_data_for_downloading_sp_06.csv\"\n",
    "\n",
    "model_1_name = \"efficientnet\" # classification model\n",
    "model_2_name = \"yolov5\" # object detection model\n",
    "model_3_name = \"detr\"   # object detection model\n",
    "model_1_pred_folder = f\"data/model_predictions/{model_1_name}_predictions\" # contains model 1 prediction results\n",
    "model_2_pred_folder = f\"data/model_predictions/{model_2_name}_predictions\" # contains model 2 prediction results\n",
    "model_3_pred_folder = f\"data/model_predictions/{model_3_name}_predictions\" # contains model 3 prediction results\n",
    "\n",
    "# column names - no need to modify these variables\n",
    "tile_id_col = \"point_id\" # for section 4"
   ]
  },
  {
   "cell_type": "markdown",
   "id": "f8e4cdc8",
   "metadata": {},
   "source": [
    "## 1. Add model prediction scores to DataFrame"
   ]
  },
  {
   "cell_type": "code",
   "execution_count": null,
   "id": "a867440d",
   "metadata": {},
   "outputs": [],
   "source": [
    "# read csv files\n",
    "df = pd.read_csv(gov_csv_dir)\n",
    "\n",
    "# adding model prediction results to DataFrame\n",
    "\n",
    "model_1_conf_col = f\"conf_{model_1_name}\" # \"conf_efficientnet\"\n",
    "model_2_conf_col = f\"conf_{model_2_name}\" # \"conf_yolov5\"\n",
    "model_3_conf_col = f\"conf_{model_3_name}\" # \"conf_detr\"\n",
    "\n",
    "# put NaN values in three model conf score columns\n",
    "df[model_1_conf_col] = np.nan\n",
    "df[model_2_conf_col] = np.nan\n",
    "df[model_3_conf_col] = np.nan\n",
    "\n",
    "\n",
    "#####  add model probability scores to DataFrame  #####\n",
    "\n",
    "# add model 1 (EfficientNet) probability scores to DataFrame\n",
    "df = add_efficientnet_conf_scores(original_df = df,\n",
    "                                  predictions_folder = model_1_pred_folder,\n",
    "                                  school_class_id = 1, \n",
    "                                  school_conf_col = model_1_conf_col, \n",
    "                                  image_id_col = tile_id_col)\n",
    "\n",
    "# add model 2 (YOLOv5) probability scores to DataFrame\n",
    "df = add_yolov5_conf_scores(original_df = df, \n",
    "                            predictions_folder = model_2_pred_folder,\n",
    "                            school_conf_col = model_2_conf_col, \n",
    "                            image_id_col = tile_id_col)\n",
    "\n",
    "# add model 3 (DeTR) probability scores to DataFrame\n",
    "df = add_detr_conf_scores(original_df = df, \n",
    "                          predictions_folder = model_3_pred_folder,\n",
    "                          school_conf_col = model_3_conf_col, \n",
    "                          image_id_col = tile_id_col)\n",
    "\n",
    "# replace NaNs with zeros\n",
    "df[model_1_conf_col] = df[model_1_conf_col].fillna(0)\n",
    "df[model_2_conf_col] = df[model_2_conf_col].fillna(0)\n",
    "df[model_3_conf_col] = df[model_3_conf_col].fillna(0)\n",
    "\n",
    "# reset index\n",
    "df = df.reset_index(drop = True)"
   ]
  },
  {
   "cell_type": "code",
   "execution_count": null,
   "id": "d7f92a88",
   "metadata": {},
   "outputs": [],
   "source": [
    "\"\"\"  Save csv file  \"\"\"\n",
    "\n",
    "df.to_csv(\"data/mongolia_gov_data_model_conf_scores_added.csv\", index = False)"
   ]
  }
 ],
 "metadata": {
  "kernelspec": {
   "display_name": "Python 3 (ipykernel)",
   "language": "python",
   "name": "python3"
  },
  "language_info": {
   "codemirror_mode": {
    "name": "ipython",
    "version": 3
   },
   "file_extension": ".py",
   "mimetype": "text/x-python",
   "name": "python",
   "nbconvert_exporter": "python",
   "pygments_lexer": "ipython3",
   "version": "3.9.10"
  }
 },
 "nbformat": 4,
 "nbformat_minor": 5
}
