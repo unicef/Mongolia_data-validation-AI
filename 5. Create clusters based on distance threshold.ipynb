{
 "cells": [
  {
   "cell_type": "code",
   "execution_count": 1,
   "id": "38d0228f",
   "metadata": {},
   "outputs": [],
   "source": [
    "import geopandas as gpd\n",
    "import pandas as pd\n",
    "from sklearn.cluster import DBSCAN\n",
    "import numpy as np"
   ]
  },
  {
   "cell_type": "markdown",
   "id": "4eda3a0c",
   "metadata": {},
   "source": [
    "## Params"
   ]
  },
  {
   "cell_type": "code",
   "execution_count": 2,
   "id": "bbf1a589",
   "metadata": {},
   "outputs": [],
   "source": [
    "csv_dir = \"data/mongolia_gov_data_model_conf_scores_added.csv\"\n",
    "csv_lat_col_name = \"latitude\"\n",
    "csv_lon_col_name = \"longitude\"\n",
    "csv_crs = \"epsg:4326\"\n",
    "\n",
    "nn_distance = 15 # in meters\n",
    "crs_3857 = \"epsg:3857\""
   ]
  },
  {
   "cell_type": "markdown",
   "id": "98c829d4",
   "metadata": {},
   "source": [
    "## Cluster points with nearby distance threshold"
   ]
  },
  {
   "cell_type": "code",
   "execution_count": 3,
   "id": "97d43d1c",
   "metadata": {},
   "outputs": [],
   "source": [
    "# read csv file\n",
    "df = pd.read_csv(csv_dir)\n",
    "\n",
    "# drop rows with NaN values in \"longitude\" column\n",
    "new_df = df[df['longitude'].notna()].copy()\n",
    "\n",
    "# create geojson file\n",
    "gdf = gpd.GeoDataFrame(new_df, \n",
    "                       geometry=gpd.points_from_xy(new_df[csv_lon_col_name], \n",
    "                                                   new_df[csv_lat_col_name]), \n",
    "                       crs=csv_crs)\n",
    "\n",
    "# convert CRS to \"EPSG:3857\"\n",
    "gdf = gdf.to_crs(crs_3857)\n",
    "\n",
    "# drop rows with inf values in \"geometry\" column - error caused during CRS conversion\n",
    "gdf = gdf[~(np.isinf(gdf.geometry.x) | np.isinf(gdf.geometry.y))].reset_index(drop = True)"
   ]
  },
  {
   "cell_type": "code",
   "execution_count": 4,
   "id": "69a157f6",
   "metadata": {},
   "outputs": [],
   "source": [
    "assert \"x\" not in gdf.columns\n",
    "assert \"y\" not in gdf.columns\n",
    "\n",
    "# calculate x and y columns\n",
    "gdf[\"x\"] = gdf.geometry.x # create x coordinate column (with units in meters)\n",
    "gdf[\"y\"] = gdf.geometry.y # create y coordinate column (with units in meters)\n",
    "\n",
    "# cluster - create a numpy array where each row is a coordinate pair\n",
    "coords = gdf[[\"x\", \"y\"]].values\n",
    "\n",
    "# 15 is max distance between points.\n",
    "# min cluster size are 2 points. \n",
    "# You'll have to tweak the distance \"nn_distance\" variable.\n",
    "db = DBSCAN(eps = nn_distance, min_samples = 2).fit(coords) \n",
    "cluster_labels = pd.Series(db.labels_).rename('cluster') # a series with all points cluster ids\n",
    "\n",
    "cluster_df = pd.concat([gdf, cluster_labels.reindex(gdf.index)], \n",
    "                       axis=1) # concat it to the dataframe\n",
    "\n",
    "cluster_df = cluster_df[[\"point_id\", \"cluster\"]]"
   ]
  },
  {
   "cell_type": "markdown",
   "id": "97032834",
   "metadata": {},
   "source": [
    "## Add cluster ids to DataFrame"
   ]
  },
  {
   "cell_type": "code",
   "execution_count": 5,
   "id": "83d58609",
   "metadata": {},
   "outputs": [],
   "source": [
    "# append cluster ids to original \"df\" DataFrame\n",
    "final_df = pd.merge(df, cluster_df, \n",
    "                    on=\"point_id\", \n",
    "                    how = \"left\")\n",
    "\n",
    "# rename column \"cluster\" to \"cluster_id\" \n",
    "final_df.rename(columns = {\"cluster\" : f\"cluster_id\"},\n",
    "                inplace = True)"
   ]
  },
  {
   "cell_type": "code",
   "execution_count": 6,
   "id": "12617867",
   "metadata": {},
   "outputs": [],
   "source": [
    "# save final output file\n",
    "final_df.to_csv(f\"data/gov_data_nn_{nn_distance}_m.csv\", index = False)"
   ]
  },
  {
   "cell_type": "code",
   "execution_count": null,
   "id": "ab8eec04",
   "metadata": {},
   "outputs": [],
   "source": []
  }
 ],
 "metadata": {
  "kernelspec": {
   "display_name": "Python 3",
   "language": "python",
   "name": "python3"
  },
  "language_info": {
   "codemirror_mode": {
    "name": "ipython",
    "version": 3
   },
   "file_extension": ".py",
   "mimetype": "text/x-python",
   "name": "python",
   "nbconvert_exporter": "python",
   "pygments_lexer": "ipython3",
   "version": "3.6.9"
  }
 },
 "nbformat": 4,
 "nbformat_minor": 5
}
