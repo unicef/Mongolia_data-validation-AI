{
 "cells": [
  {
   "cell_type": "code",
   "execution_count": null,
   "id": "a42c99c1",
   "metadata": {},
   "outputs": [],
   "source": [
    "import pandas as pd\n",
    "import geopandas as gpd\n",
    "from utils import create_extent_from_centroid\n",
    "\n",
    "import os"
   ]
  },
  {
   "cell_type": "markdown",
   "id": "0e47e11e",
   "metadata": {},
   "source": [
    "## Params"
   ]
  },
  {
   "cell_type": "code",
   "execution_count": null,
   "id": "c33919b4",
   "metadata": {},
   "outputs": [],
   "source": [
    "gov_csv_dir = \"data/gov_data/2023-05-02 Gis koordinate list V2.csv\"\n",
    "\n",
    "gov_data_crs = \"epsg:4326\"\n",
    "gov_lon_col_name = \"longitude\"\n",
    "gov_lat_col_name = \"latitude\"\n",
    "tile_width = 512 # image width\n",
    "tile_height = 512 # image height\n",
    "spatial_resolution = 0.6 # in meters"
   ]
  },
  {
   "cell_type": "markdown",
   "id": "8212162d",
   "metadata": {},
   "source": [
    "## 1. Process gov csv file"
   ]
  },
  {
   "cell_type": "code",
   "execution_count": null,
   "id": "7faa5b83",
   "metadata": {},
   "outputs": [],
   "source": [
    "# read csv file\n",
    "gov_df = pd.read_csv(gov_csv_dir)\n",
    "\n",
    "# add \"original index\" column\n",
    "gov_df[\"original_index\"] = list(gov_df.index)\n",
    "\n",
    "# add \"point_id\" column\n",
    "gov_df[\"point_id\"] = [\"gov_\" + str(i+1) for i in gov_df.index]\n",
    "\n",
    "# check if there's duplications in location coordinates\n",
    "print(True in list( gov_df.duplicated([\"longitude\"])) )"
   ]
  },
  {
   "cell_type": "markdown",
   "id": "f35d395c",
   "metadata": {},
   "source": [
    "## 2. Add extent"
   ]
  },
  {
   "cell_type": "code",
   "execution_count": null,
   "id": "7c2c08a3",
   "metadata": {},
   "outputs": [],
   "source": [
    "\"\"\"  Add 4 corner points  \"\"\"\n",
    "\n",
    "# create top, left, bottom, right coordinate points for downloading satellite imagery\n",
    "top, left, bottom, right = create_extent_from_centroid(src_crs = gov_data_crs,\n",
    "                                                       x = gov_df[gov_lon_col_name],\n",
    "                                                       y = gov_df[gov_lat_col_name],\n",
    "                                                       grid_width = tile_width,\n",
    "                                                       grid_height = tile_height,\n",
    "                                                       spatial_resolution = spatial_resolution)\n",
    "\n",
    "# add four corner grid points to DataFrame\n",
    "gov_df[\"top\"] = top\n",
    "gov_df[\"left\"] = left\n",
    "gov_df[\"bottom\"] = bottom\n",
    "gov_df[\"right\"] = right"
   ]
  },
  {
   "cell_type": "code",
   "execution_count": null,
   "id": "c64bce74",
   "metadata": {},
   "outputs": [],
   "source": [
    "# save csv file\n",
    "sp = str(spatial_resolution).replace(\".\", \"\")\n",
    "\n",
    "gov_df.to_csv(f\"data/gov_data_for_downloading_sp_{sp}.csv\", index = False)"
   ]
  }
 ],
 "metadata": {
  "kernelspec": {
   "display_name": "Python 3 (ipykernel)",
   "language": "python",
   "name": "python3"
  },
  "language_info": {
   "codemirror_mode": {
    "name": "ipython",
    "version": 3
   },
   "file_extension": ".py",
   "mimetype": "text/x-python",
   "name": "python",
   "nbconvert_exporter": "python",
   "pygments_lexer": "ipython3",
   "version": "3.9.10"
  }
 },
 "nbformat": 4,
 "nbformat_minor": 5
}
